{
 "cells": [
  {
   "cell_type": "markdown",
   "id": "d573229f",
   "metadata": {},
   "source": [
    "# Fundamental steps"
   ]
  },
  {
   "cell_type": "code",
   "execution_count": 1,
   "id": "dea320bb",
   "metadata": {},
   "outputs": [],
   "source": [
    "from github import Github\n",
    "g = Github(\"add access code\")"
   ]
  },
  {
   "cell_type": "code",
   "execution_count": 2,
   "id": "d48e8a3b",
   "metadata": {},
   "outputs": [
    {
     "name": "stdout",
     "output_type": "stream",
     "text": [
      "SaashaJoshi Saasha Joshi\n"
     ]
    }
   ],
   "source": [
    "user = g.get_user()\n",
    "print(user.login, user.name)"
   ]
  },
  {
   "cell_type": "markdown",
   "id": "a7931dc7",
   "metadata": {},
   "source": [
    "## Getting totalCouts of repositories"
   ]
  },
  {
   "cell_type": "code",
   "execution_count": 48,
   "id": "d0449ef7",
   "metadata": {},
   "outputs": [],
   "source": [
    "repos = g.search_repositories(query = \"language:python\")"
   ]
  },
  {
   "cell_type": "code",
   "execution_count": 51,
   "id": "5f8430a8",
   "metadata": {},
   "outputs": [
    {
     "name": "stdout",
     "output_type": "stream",
     "text": [
      "8929200\n"
     ]
    }
   ],
   "source": [
    "print(repos.totalCount)"
   ]
  },
  {
   "cell_type": "code",
   "execution_count": 53,
   "id": "2c913e2d",
   "metadata": {},
   "outputs": [
    {
     "name": "stdout",
     "output_type": "stream",
     "text": [
      "total: 8492475\n"
     ]
    }
   ],
   "source": [
    "# Some bug (as below) allows totalCounts to not max out by 1000.\n",
    "\n",
    "repos.get_page(0)\n",
    "print('total: ' + str(repos.totalCount))"
   ]
  },
  {
   "cell_type": "markdown",
   "id": "cc347a14",
   "metadata": {},
   "source": [
    "# Searching for repositories that use Qiskit SDK"
   ]
  },
  {
   "cell_type": "code",
   "execution_count": 43,
   "id": "fdd1d00a",
   "metadata": {},
   "outputs": [],
   "source": [
    "repos_by_user = g.search_repositories(\"qiskit\")\n",
    "\n",
    "# for repo in repos_by_user:\n",
    "#     print(repo.name)"
   ]
  },
  {
   "cell_type": "code",
   "execution_count": 47,
   "id": "5e68e52d",
   "metadata": {},
   "outputs": [
    {
     "name": "stdout",
     "output_type": "stream",
     "text": [
      "3029\n"
     ]
    }
   ],
   "source": [
    "print(repos_by_user.totalCount)"
   ]
  },
  {
   "cell_type": "code",
   "execution_count": 52,
   "id": "17e05cc1",
   "metadata": {},
   "outputs": [
    {
     "name": "stdout",
     "output_type": "stream",
     "text": [
      "total: 3029\n"
     ]
    }
   ],
   "source": [
    "repos_by_user.get_page(0)\n",
    "print('total: ' + str(repos_by_user.totalCount))"
   ]
  },
  {
   "cell_type": "code",
   "execution_count": 126,
   "id": "9238082d",
   "metadata": {},
   "outputs": [
    {
     "name": "stdout",
     "output_type": "stream",
     "text": [
      "total: 192869\n"
     ]
    }
   ],
   "source": [
    "# For details about using regex refer to the doc.\n",
    "\n",
    "repo_by_sc = g.search_code(r\"from qiskit(.*?)\")\n",
    "# repo_by_sc = g.search_code(r\"import qiskit(.*?)\")\n",
    "\n",
    "repo_by_sc.get_page(0)\n",
    "print('total: ' + str(repo_by_sc.totalCount))"
   ]
  },
  {
   "cell_type": "code",
   "execution_count": 113,
   "id": "b938b9f1",
   "metadata": {},
   "outputs": [
    {
     "name": "stdout",
     "output_type": "stream",
     "text": [
      "total: 409603\n"
     ]
    }
   ],
   "source": [
    "repo_by_sc = g.search_code(r\"qiskit(.*?)\")\n",
    "\n",
    "repo_by_sc.get_page(0)\n",
    "print('total: ' + str(repo_by_sc.totalCount))"
   ]
  },
  {
   "cell_type": "code",
   "execution_count": 99,
   "id": "24cf1521",
   "metadata": {},
   "outputs": [
    {
     "name": "stdout",
     "output_type": "stream",
     "text": [
      "total: 143193\n"
     ]
    }
   ],
   "source": [
    "repo_by_lan = g.search_repositories(\"language:jupyter notebook\")\n",
    "\n",
    "# for repo in repo_by_lan:\n",
    "#     print(repo)\n",
    "    \n",
    "repo_by_lan.get_page(0)\n",
    "print('total: ' + str(repo_by_lan.totalCount))"
   ]
  },
  {
   "cell_type": "markdown",
   "id": "18136f52",
   "metadata": {},
   "source": [
    "# Repos that use Q#\n",
    "\n",
    "Some issues persist/are in my mind. Refer to doc."
   ]
  },
  {
   "cell_type": "code",
   "execution_count": 125,
   "id": "1882ec65",
   "metadata": {},
   "outputs": [
    {
     "name": "stdout",
     "output_type": "stream",
     "text": [
      "total: 242\n",
      "Repository(full_name=\"eth-sri/silq\")\n",
      "Repository(full_name=\"microsoft/QuantumLibraries\")\n",
      "Repository(full_name=\"qsharp-community/qram\")\n",
      "Repository(full_name=\"microsoft/MLADS2018-QuantumML\")\n",
      "Repository(full_name=\"microsoft/QuantumEllipticCurves\")\n",
      "Repository(full_name=\"mikeroyal/Quantum-Computing-Guide\")\n",
      "Repository(full_name=\"qsharp-community/algorithm-zoo\")\n",
      "Repository(full_name=\"microsoft/grover-blocks\")\n",
      "Repository(full_name=\"quantumcoalition/qchack-microsoft-challenge\")\n",
      "Repository(full_name=\"microsoft/quantum-curriculum-preview\")\n",
      "Repository(full_name=\"tcNickolas/MiscQSharp\")\n",
      "Repository(full_name=\"tcNickolas/AQDW3Demo\")\n",
      "Repository(full_name=\"pouriya73/Quantum-computer-programming\")\n",
      "Repository(full_name=\"jotego/jtdsp16\")\n",
      "Repository(full_name=\"jwulf/HGate\")\n",
      "Repository(full_name=\"pouriya73/simple-quantum-computer\")\n",
      "Repository(full_name=\"PacktPublishing/QC101-Quantum-Computing-and-Quantum-Physics-for-Beginners\")\n",
      "Repository(full_name=\"Djohnnie/QuantumComputing-BuildStuff-2020\")\n",
      "Repository(full_name=\"xpclove/qblas\")\n",
      "Repository(full_name=\"amitcrypto/LWC-Q\")\n",
      "Repository(full_name=\"jclapis/quantum-course-labs\")\n",
      "Repository(full_name=\"saruharu/Quantumplators-Microsoft-Part2\")\n",
      "Repository(full_name=\"seanpm2001/SNU_2D_ProgrammingTools_IDE_Q_Sharp\")\n",
      "Repository(full_name=\"filipw/QSharp.Demos\")\n",
      "Repository(full_name=\"seanpm2001/Meadows_Programs_QuantumDefragmenter\")\n",
      "Repository(full_name=\"jvfe/wikidata_panglaodb\")\n",
      "Repository(full_name=\"chicknmilk/Quantum-Phase-Estimation\")\n",
      "Repository(full_name=\"Djohnnie/QSharp-and-AzureQuantum-ReFactor-2021\")\n",
      "Repository(full_name=\"FeiWang93/Tensor-Projection\")\n",
      "Repository(full_name=\"seanpm2001/Learn-QSharp\")\n",
      "Repository(full_name=\"jwei302/Quantum-Counting\")\n",
      "Repository(full_name=\"lubianat/wikidata_singlecell\")\n",
      "Repository(full_name=\"ihristova11/qsharp-playground\")\n",
      "Repository(full_name=\"khaledallen/SimPQPennyFlip\")\n",
      "Repository(full_name=\"praabindhp/Project_QRandom\")\n",
      "Repository(full_name=\"Glazelf/quantum-lecture\")\n",
      "Repository(full_name=\"EngineersBox/Q-Grovers-Algorithm\")\n",
      "Repository(full_name=\"ahelwer/quantum-experiments\")\n",
      "Repository(full_name=\"filipw/2021-geneva-net-ug-demos\")\n",
      "Repository(full_name=\"barrettotte/Qsharp-2020\")\n",
      "Repository(full_name=\"goksagun/quantum-rng\")\n",
      "Repository(full_name=\"qorf/example-games\")\n",
      "Repository(full_name=\"FellowsFreiesWissen/Ogham\")\n",
      "Repository(full_name=\"sam-jaques/offline-quantum-period-finding\")\n",
      "Repository(full_name=\"Djohnnie/QSharp-and-AzureQuantum-FutureTech-2021\")\n",
      "Repository(full_name=\"kjloveless/Quantoberfest-ttt\")\n",
      "Repository(full_name=\"mbuchberger1967/qc-lectures\")\n",
      "Repository(full_name=\"vivienlonde/QW_Burgers\")\n",
      "Repository(full_name=\"sr-lab/qsharp-fuzz\")\n",
      "Repository(full_name=\"hixio-mh/Lib-quantum\")\n",
      "Repository(full_name=\"praabindhp/Quantum_Hello\")\n",
      "Repository(full_name=\"wisn/qq\")\n",
      "Repository(full_name=\"amirebrahimi/qsharp-unity\")\n",
      "Repository(full_name=\"scapape/QuantumSudoku\")\n",
      "Repository(full_name=\"Djohnnie/QSharp-and-AzureQuantum-TechTrainMechelen-2021\")\n",
      "Repository(full_name=\"jonahandersson/hello-quantum-simple-qsharp-program\")\n",
      "Repository(full_name=\"ErialdoDFreitas/quantumComputing\")\n",
      "Repository(full_name=\"loneicewolf/QSharp_HelloWorld\")\n",
      "Repository(full_name=\"Rufus1123/AdiabaticSantaOptimizer\")\n",
      "Repository(full_name=\"lauripiispanen/quantum_computing_examples\")\n",
      "Repository(full_name=\"filipw/2021-zurich-net-ug-demos\")\n",
      "Repository(full_name=\"gmeuli/stg-benchmark\")\n",
      "Repository(full_name=\"Acceleraizer/QCHack2021\")\n",
      "Repository(full_name=\"SchrodingersSangru/QCHack123\")\n",
      "Repository(full_name=\"Djohnnie/QSharp-and-AzureQuantum-CodePaLOUsa-2021\")\n",
      "Repository(full_name=\"clorenz7/qcomp_shor_fact\")\n",
      "Repository(full_name=\"PasanSilva99/Hello-World-From-Quantum\")\n",
      "Repository(full_name=\"Djohnnie/QSharp-and-AzureQuantum-DotNetDeveloperDays-2021\")\n",
      "Repository(full_name=\"LambdaQs/qsharp-samples\")\n",
      "Repository(full_name=\"SatyaKuppam/codeforces-microsoft-quantum-contests\")\n",
      "Repository(full_name=\"i0Ek3/quantum-trial\")\n",
      "Repository(full_name=\"Phips04/Quantum-number-generator\")\n",
      "Repository(full_name=\"every-politician-scrapers/bristol-south-elections-wikipedia\")\n",
      "Repository(full_name=\"DivyaYagnik/quantum-computing\")\n",
      "Repository(full_name=\"bits-and-electrons/QSharpSamples\")\n",
      "Repository(full_name=\"m0ssc0de/HelloQuantum\")\n",
      "Repository(full_name=\"clementbreuzet/QLotteryDemo\")\n",
      "Repository(full_name=\"0xF6/qss\")\n",
      "Repository(full_name=\"hackermuffin/ShorsAlgorithm\")\n",
      "Repository(full_name=\"filipw/2021-bastafall-demos\")\n",
      "Repository(full_name=\"sandreenko/qSharpTasks\")\n",
      "Repository(full_name=\"Djohnnie/Introducing-Microsoft-Quantum-Computing-For-Developers\")\n",
      "Repository(full_name=\"Djohnnie/QSharp-and-AzureQuantum-DevSum-2021\")\n",
      "Repository(full_name=\"Djohnnie/QSharp-and-AzureQuantum-CanaryWharf-2020\")\n",
      "Repository(full_name=\"lubianat/thesis2wikidata\")\n",
      "Repository(full_name=\"ShahinHonarvar/QSharpCheck\")\n",
      "Repository(full_name=\"vsth258/Hack-q-thon\")\n",
      "Repository(full_name=\"stain89/infracloud\")\n",
      "Repository(full_name=\"fvirdia/QS7106-Unable-to-serialize\")\n",
      "Repository(full_name=\"ms1450/bb84\")\n",
      "Repository(full_name=\"jhonnycamargo/QuantumComputing\")\n",
      "Repository(full_name=\"MamarezaAP/QuantumSearch\")\n",
      "Repository(full_name=\"raffaeleterribile/qubit-programming\")\n",
      "Repository(full_name=\"DylanJVA/Nonlocal-Games\")\n",
      "Repository(full_name=\"ShirazAdam/QSharp\")\n",
      "Repository(full_name=\"zeionara/quantum-hello-world\")\n",
      "Repository(full_name=\"every-politician-scrapers/bristol-east-elections-wikipedia\")\n",
      "Repository(full_name=\"every-politician-scrapers/bristol-northwest-elections-wikipedia\")\n",
      "Repository(full_name=\"every-politician-scrapers/bristol-west-elections-wikipedia\")\n",
      "Repository(full_name=\"mikefaceWSSB/EPIQ2021\")\n",
      "Repository(full_name=\"raffaeleterribile/quantum-hello\")\n",
      "Repository(full_name=\"gbertacco/QuantumRosettaStoned\")\n",
      "Repository(full_name=\"rdeetz/QUnoScience\")\n",
      "Repository(full_name=\"Djohnnie/QSharp-and-AzureQuantum-NDCLondon-2021\")\n",
      "Repository(full_name=\"Djohnnie/QSharp-and-AzureQuantum-DotNetToTheCore-2021\")\n",
      "Repository(full_name=\"mariocuomo/teletrasportoQuantico\")\n",
      "Repository(full_name=\"mariocuomo/CodificaSuperdensa\")\n",
      "Repository(full_name=\"mertall/DurrHoyerLibrary\")\n",
      "Repository(full_name=\"ShloEmi/Qs.Sandbox\")\n",
      "Repository(full_name=\"anpaz/uw-490q-au20\")\n",
      "Repository(full_name=\"KIServers/Creeper\")\n",
      "Repository(full_name=\"BenedictHomuth/Quantum-Computing-Introduction\")\n",
      "Repository(full_name=\"ethan-hurst/Quantum-Number-Generator\")\n",
      "Repository(full_name=\"achifal/Quantum\")\n",
      "Repository(full_name=\"lindoelio/quantum-quickstart\")\n",
      "Repository(full_name=\"patrick-sharp/CSE490Q\")\n",
      "Repository(full_name=\"JassonCordones/quantum-rng\")\n",
      "Repository(full_name=\"williammortl/QuantumComputing\")\n",
      "Repository(full_name=\"y10e/yubaba-qsharp\")\n",
      "Repository(full_name=\"born-2learn/Qsharp-QML\")\n",
      "Repository(full_name=\"pepsipu/libq\")\n",
      "Repository(full_name=\"cjofox/mslearn-quantum\")\n",
      "Repository(full_name=\"GennadiStammn/azure-quantum-test\")\n",
      "Repository(full_name=\"swernli/qsharp-prng\")\n",
      "Repository(full_name=\"josephyu19850119/QuantumHello\")\n",
      "Repository(full_name=\"MarrickLip/quantum-computing-fundamentals\")\n",
      "Repository(full_name=\"Djohnnie/AzureQuantum-and-QSharp-Azure-Lowlands-2022\")\n",
      "Repository(full_name=\"Mongruel/QuantumRNG\")\n",
      "Repository(full_name=\"KeirLoire/QuantumExperiment\")\n",
      "Repository(full_name=\"zsmihai/qchack_part2only\")\n",
      "Repository(full_name=\"h2floh/LearnQuantum\")\n",
      "Repository(full_name=\"KIServers/IsTheBitStringPeriodicOracle\")\n",
      "Repository(full_name=\"TonyHoldroyd/ManningQSharpProjects\")\n",
      "Repository(full_name=\"Bohlsen/Kitaev-Phase-Estimation\")\n",
      "Repository(full_name=\"MarvOdo/Shors-Algorithm\")\n",
      "Repository(full_name=\"faust403/quantum-katas\")\n",
      "Repository(full_name=\"kurabito/Bell\")\n",
      "Repository(full_name=\"vivienlonde/testFPAA\")\n",
      "Repository(full_name=\"zoraizmohammad/BWSIQuantumSoftware-Assignments\")\n",
      "Repository(full_name=\"takekoputa/miscs\")\n",
      "Repository(full_name=\"goshdarnitnick/OptimisedGroversAlgorithm\")\n",
      "Repository(full_name=\"lorenzobilli/Quantum-Teleport\")\n",
      "Repository(full_name=\"takahiro-itou/Quantum2019\")\n",
      "Repository(full_name=\"Roberto-Hoo/QuantumHello\")\n",
      "Repository(full_name=\"QPower-Research/qml_qsharp\")\n",
      "Repository(full_name=\"rkhhsan/QSharpApplication1\")\n",
      "Repository(full_name=\"lubianat/wiki_ibge\")\n",
      "Repository(full_name=\"vivanwin/solve-secret-santa-with-grover\")\n",
      "Repository(full_name=\"radras/qchack-microsoft-challenge\")\n",
      "Repository(full_name=\"satzhan/QCHack-Microsoft\")\n",
      "Repository(full_name=\"giuliacampesan/qchack-microsoft-challenge\")\n",
      "Repository(full_name=\"Ily-87/Qsharp\")\n",
      "Repository(full_name=\"dimarusyy/simple-qubit\")\n",
      "Repository(full_name=\"allen080/QuantumProgramming\")\n",
      "Repository(full_name=\"CHOMROMKONCHORBHEE/spam\")\n",
      "Repository(full_name=\"upretiyummiee/QSharpApplication\")\n",
      "Repository(full_name=\"filipw/2021-bastaspring-demos\")\n",
      "Repository(full_name=\"flegaspi700/myQ-\")\n",
      "Repository(full_name=\"LidorFrenkel/qchack-microsoft-challenge\")\n",
      "Repository(full_name=\"tank104/QuantumDevelopment\")\n",
      "Repository(full_name=\"mariocuomo/Microsoft-Q-Advent-Calendar-2021\")\n",
      "Repository(full_name=\"shuhul/PedestrianDetection2\")\n",
      "Repository(full_name=\"ashwink0/idk\")\n",
      "Repository(full_name=\"raffaeleterribile/bell-entanglement\")\n",
      "Repository(full_name=\"rresender/quantum-learning\")\n",
      "Repository(full_name=\"hsirtl/aqua-workshop-exercises\")\n",
      "Repository(full_name=\"Djohnnie/QuantumComputingHandsOn-NDCWorkshops-2020\")\n",
      "Repository(full_name=\"lubianat/wikidata_P4510_reconciler\")\n",
      "Repository(full_name=\"sueka/learn-qdk\")\n",
      "Repository(full_name=\"johannlilly/microsoft-quantum-computing-foundations\")\n",
      "Repository(full_name=\"wingkwong/qsharp-playground\")\n",
      "Repository(full_name=\"piraces/quantum-learn\")\n",
      "Repository(full_name=\"iwei20/intro-to-quantum-test\")\n",
      "Repository(full_name=\"Richargh/quantum-computing-qs-dn-sandbox\")\n",
      "Repository(full_name=\"elroydo/quantum-random-number\")\n",
      "Repository(full_name=\"n-jun-k2/q-sharp-train\")\n",
      "Repository(full_name=\"Djohnnie/QSharp-and-AzureQuantum-DDOG-2022\")\n",
      "Repository(full_name=\"nnoboa/mitre-intro-to-quantum\")\n",
      "Repository(full_name=\"shuhul/IntroToQS\")\n",
      "Repository(full_name=\"shikharsingh3/Qosf_Screening_Task_2\")\n"
     ]
    },
    {
     "name": "stdout",
     "output_type": "stream",
     "text": [
      "Repository(full_name=\"RobinBerger/Grover-Sphincs\")\n",
      "Repository(full_name=\"myarichuk/QHelloWorld\")\n",
      "Repository(full_name=\"lukeponga-dev/RandomNumberGenrator\")\n",
      "Repository(full_name=\"lubianat/eoss2wikidata\")\n",
      "Repository(full_name=\"Djohnnie/QSharp-and-AzureQuantum-AZUG-2020\")\n",
      "Repository(full_name=\"szczyglis-dev/quantum-random-bit-generator\")\n",
      "Repository(full_name=\"Djohnnie/QuantumComputing-HyperionDGTalk-2022\")\n",
      "Repository(full_name=\"satylogin/Quantum\")\n",
      "Repository(full_name=\"Niladri24dutta/Qsharp-RandomNumber-Generator\")\n",
      "Repository(full_name=\"Darshan-AS/quantum_computing\")\n",
      "Repository(full_name=\"64byte/qsharp-demo\")\n",
      "Repository(full_name=\"anthonygencinas/HelloQuantumWorld\")\n",
      "Repository(full_name=\"chriswebb09/QuantumPractice\")\n",
      "Repository(full_name=\"Djohnnie/AzureQuantum-and-QSharp-KCDC-2022\")\n",
      "Repository(full_name=\"Leomotors/microsoft-learn\")\n",
      "Repository(full_name=\"algonacci/intro_to_qdk\")\n",
      "Repository(full_name=\"wilddesign/Quantum-Computing-Tinkering\")\n",
      "Repository(full_name=\"LiangyuW/QuantumComputing\")\n",
      "Repository(full_name=\"Djohnnie/CreatingQuantumAlgorithmUsingQSharp-DotNetDeveloperDays-2022\")\n",
      "Repository(full_name=\"zysbzddsj/Q_Sharp_Applications\")\n",
      "Repository(full_name=\"villematti/quantum-random\")\n",
      "Repository(full_name=\"mariiatuzovska/shors-algorithm\")\n",
      "Repository(full_name=\"felipeolivares/CriptografiaQuanticaQsharp\")\n",
      "Repository(full_name=\"chrisstev2345/Quantum\")\n",
      "Repository(full_name=\"filipw/2022-dotnetday-demos\")\n",
      "Repository(full_name=\"ix-magazin/dev22-Einstieg-in-Microsofts-Quantensprache-Qsharp\")\n",
      "Repository(full_name=\"Djohnnie/QSharp-and-AzureQuantum-IlionX-DevDays-2022\")\n",
      "Repository(full_name=\"jvfe/biosoftware2wikidata\")\n",
      "Repository(full_name=\"ttrine/IEEE-Quantum-Software-Development-Lab-Exercises\")\n",
      "Repository(full_name=\"georgekosmidis/Quantum.RandomNumber\")\n",
      "Repository(full_name=\"pogh/Course-2020.12-Quantum-Computing-Foundations\")\n",
      "Repository(full_name=\"ZyuDev/QSharpLearning\")\n",
      "Repository(full_name=\"qorf/epiq\")\n",
      "Repository(full_name=\"raffaeleterribile/quantum-rng\")\n",
      "Repository(full_name=\"vincenzomarcella/quantum-exercises\")\n",
      "Repository(full_name=\"filipw/intro-to-qc-with-qsharp-book\")\n",
      "Repository(full_name=\"Djohnnie/QSharp-and-AzureQuantum-CloudWithChris-2022\")\n",
      "Repository(full_name=\"filipw/2022-ndcporto-demos\")\n",
      "Repository(full_name=\"robrennie/QCell\")\n",
      "Repository(full_name=\"Bahrd/QuantumApps\")\n",
      "Repository(full_name=\"horgaemilia/QCHack\")\n",
      "Repository(full_name=\"cicorias/qsharp-play1\")\n",
      "Repository(full_name=\"XWasHere/quantum\")\n",
      "Repository(full_name=\"Ck1998/Q-Sharp-Codes\")\n",
      "Repository(full_name=\"tabr21/qchack-microsoft-submission\")\n",
      "Repository(full_name=\"johanweterings/PlainBB84Protocol\")\n",
      "Repository(full_name=\"PhilipSA/Quantum-Evaluation\")\n",
      "Repository(full_name=\"sascristian/Qpy.ai\")\n",
      "Repository(full_name=\"rhpreston/grovers-hash-functions\")\n",
      "Repository(full_name=\"data-miner00/Quantized\")\n",
      "Repository(full_name=\"Djohnnie/QuantumComputing-DotNet-DeveloperDays-2020\")\n",
      "Repository(full_name=\"filipw/Quantum.BellsInequalities\")\n",
      "Repository(full_name=\"public-ket/reduced-aes\")\n",
      "Repository(full_name=\"lwoodyiii/QSharp\")\n",
      "Repository(full_name=\"InsonusK/Quantum-computing-foundations\")\n",
      "Repository(full_name=\"thosob/quantum-travelling-salesman\")\n",
      "Repository(full_name=\"pferreirafabricio/qsharp-hello\")\n",
      "Repository(full_name=\"filipw/2022-techorama-demos\")\n",
      "Repository(full_name=\"FFhix10/lib-Quantum\")\n",
      "Repository(full_name=\"Djohnnie/QSharp-and-AzureQuantum-AzConfDev-2021\")\n",
      "Repository(full_name=\"adam8a42/Fizyka-kwantowa\")\n",
      "Repository(full_name=\"Mongruel/QuantumHello\")\n"
     ]
    }
   ],
   "source": [
    "repo_by_lan = g.search_repositories(\"language:Q#\")\n",
    "\n",
    "repo_by_lan.get_page(0)\n",
    "print('total: ' + str(repo_by_lan.totalCount))\n",
    "\n",
    "for repo in repo_by_lan:\n",
    "    print(repo)"
   ]
  },
  {
   "cell_type": "markdown",
   "id": "a2c8f451",
   "metadata": {},
   "source": [
    "# Searching Cirq repos\n",
    "\n",
    "Issues here again. Refer doc."
   ]
  },
  {
   "cell_type": "code",
   "execution_count": 111,
   "id": "97931c33",
   "metadata": {},
   "outputs": [
    {
     "name": "stdout",
     "output_type": "stream",
     "text": [
      "total: 75362\n"
     ]
    }
   ],
   "source": [
    "repo_by_sc = g.search_code(r\"from cirq import\")\n",
    "\n",
    "repo_by_sc.get_page(0)\n",
    "print('total: ' + str(repo_by_sc.totalCount))"
   ]
  },
  {
   "cell_type": "code",
   "execution_count": 118,
   "id": "9ac1fd56",
   "metadata": {},
   "outputs": [
    {
     "name": "stdout",
     "output_type": "stream",
     "text": [
      "total: 569217\n"
     ]
    }
   ],
   "source": [
    "repo_by_sc = g.search_code(r\"from cirq(.*?)\")\n",
    "# repo_by_sc = g.search_code(r\"import cirq(.*?)\")\n",
    "\n",
    "repo_by_sc.get_page(0)\n",
    "print('total: ' + str(repo_by_sc.totalCount))"
   ]
  },
  {
   "cell_type": "code",
   "execution_count": 114,
   "id": "5453e068",
   "metadata": {},
   "outputs": [
    {
     "name": "stdout",
     "output_type": "stream",
     "text": [
      "total: 44512\n"
     ]
    }
   ],
   "source": [
    "repo_by_sc = g.search_code(r\"cirquit(.*?)\")\n",
    "\n",
    "repo_by_sc.get_page(0)\n",
    "print('total: ' + str(repo_by_sc.totalCount))"
   ]
  },
  {
   "cell_type": "markdown",
   "id": "dfa679d2",
   "metadata": {},
   "source": [
    "## Searching OpenQASM also seems important"
   ]
  },
  {
   "cell_type": "code",
   "execution_count": 124,
   "id": "3ad358ec",
   "metadata": {},
   "outputs": [
    {
     "name": "stdout",
     "output_type": "stream",
     "text": [
      "total: 165\n",
      "Repository(full_name=\"Qiskit/qiskit\")\n",
      "Repository(full_name=\"Quantomatic/pyzx\")\n",
      "Repository(full_name=\"yardstiq/quantum-benchmarks\")\n",
      "Repository(full_name=\"Lumorti/The-Quantum-Tunnels\")\n",
      "Repository(full_name=\"quantum-compiler/quartz\")\n",
      "Repository(full_name=\"pnnl/DM-Sim\")\n",
      "Repository(full_name=\"meamy/feynman\")\n",
      "Repository(full_name=\"pnnl/QASMBench\")\n",
      "Repository(full_name=\"BQSKit/bqskit\")\n",
      "Repository(full_name=\"uuudown/QASMBench\")\n",
      "Repository(full_name=\"tbcdebug/OLSQ\")\n",
      "Repository(full_name=\"Quantomatic/quizx\")\n",
      "Repository(full_name=\"Macro206/qubit-routing-with-rl\")\n",
      "Repository(full_name=\"qulacs/cirq-qulacs\")\n",
      "Repository(full_name=\"quantumlib/unitary\")\n",
      "Repository(full_name=\"caichao/ASDP\")\n",
      "Repository(full_name=\"alexandrupaler/qxx\")\n",
      "Repository(full_name=\"Veri-Q/Benchmark\")\n",
      "Repository(full_name=\"Qiskit/red-queen\")\n",
      "Repository(full_name=\"pnnl/SV-Sim\")\n",
      "Repository(full_name=\"S4Plus/Q-CODAR\")\n",
      "Repository(full_name=\"myQLM/myqlm-interop\")\n",
      "Repository(full_name=\"tbcdebug/QUEKO-benchmark\")\n",
      "Repository(full_name=\"CQCL/tket_benchmarking\")\n",
      "Repository(full_name=\"spendierk/Womanium_Hackathon_TKET_2022\")\n",
      "Repository(full_name=\"LouisCarpentier42/QuantumCircuitTransformation\")\n",
      "Repository(full_name=\"quantum-compiler/quartz-artifact\")\n",
      "Repository(full_name=\"sqrta/MQCC\")\n",
      "Repository(full_name=\"shouvanikc/Quantum-Obfuscator\")\n",
      "Repository(full_name=\"bdury/QUBO-for-Qubit-Allocation\")\n",
      "Repository(full_name=\"dsfranca/KnowYourLimit\")\n",
      "Repository(full_name=\"iic-jku/quantum_circuits\")\n",
      "Repository(full_name=\"time-optimal-qmapper/TOQM\")\n",
      "Repository(full_name=\"JohnLins/QuantumFun\")\n",
      "Repository(full_name=\"BensonZhou1991/Circuit-Transformation-via-Monte-Carlo-Tree-Search\")\n",
      "Repository(full_name=\"the-entire-country-of-ireland/public-quantum-rev\")\n",
      "Repository(full_name=\"inQWIRE/VOQC-benchmarks\")\n",
      "Repository(full_name=\"Veriqc/Approximate-Equivalence-Checking\")\n",
      "Repository(full_name=\"inQWIRE/VQO\")\n",
      "Repository(full_name=\"evboliveira/IBMQ-Experience-Deutsch-Jozsa\")\n",
      "Repository(full_name=\"alxhotel/crossbar-bench\")\n",
      "Repository(full_name=\"inQWIRE/QNP\")\n",
      "Repository(full_name=\"MingzhengZ/QuantumCompiler\")\n",
      "Repository(full_name=\"lionelchg/LesAtomesDeSavoie\")\n",
      "Repository(full_name=\"Lizaterdag/quantum-routing-optimization\")\n",
      "Repository(full_name=\"pifparfait/Ansatzes\")\n",
      "Repository(full_name=\"HuangJunye/SUTD-Introduction-to-Quantum-Computing\")\n",
      "Repository(full_name=\"JetBerri/Quantum-Teleportation\")\n",
      "Repository(full_name=\"gwwatkin/quantum-computing-papers\")\n",
      "Repository(full_name=\"ORNL-QCI/VOQC\")\n",
      "Repository(full_name=\"huafei1137/ibm_qx_mapping\")\n",
      "Repository(full_name=\"ChilsonJ/QCbenchmark\")\n",
      "Repository(full_name=\"seanpm2001/SNU_2D_ProgrammingTools_IDE_OpenQASM\")\n",
      "Repository(full_name=\"rsln-s/Error-Mitigation-for-Deep-Quantum-Optimization-Circuits-by-Leveraging-Problem-Symmetries\")\n",
      "Repository(full_name=\"sunghyepark/FSQM\")\n",
      "Repository(full_name=\"andreandrade141/quantum-computing\")\n",
      "Repository(full_name=\"bsiegelwax/Maximum-Quantum-Classification\")\n",
      "Repository(full_name=\"doomhammerhell/openqasm-examples\")\n",
      "Repository(full_name=\"seanpm2001/Learn-OpenQASM\")\n",
      "Repository(full_name=\"n0n3x1573n7/Capstone\")\n",
      "Repository(full_name=\"rickyHong/Quantum-pyzx-repl\")\n",
      "Repository(full_name=\"danyaffff/Quantum-Computing\")\n",
      "Repository(full_name=\"syall/SIPF\")\n",
      "Repository(full_name=\"C1em/grover_algo\")\n",
      "Repository(full_name=\"deymoumita/ECE8853_Quantum\")\n",
      "Repository(full_name=\"j0eun/ctf-archive\")\n",
      "Repository(full_name=\"knsmith/chiplets-for-QC-scaling\")\n",
      "Repository(full_name=\"Holly-Jiang/QCTSA\")\n",
      "Repository(full_name=\"nootanghimire/openqasm-fiddles\")\n",
      "Repository(full_name=\"tweedledum-dev/notebooks\")\n",
      "Repository(full_name=\"we-taper/mlec_supplementary_material\")\n",
      "Repository(full_name=\"plum-umd/QNP\")\n",
      "Repository(full_name=\"halimebeyzacicek/Quantum_Logic_Gates\")\n",
      "Repository(full_name=\"rkruegs123/qcircuit-optimization\")\n",
      "Repository(full_name=\"hongsy0113/qopt-hsy-\")\n",
      "Repository(full_name=\"astrojosh/quantum-circuits\")\n",
      "Repository(full_name=\"springfieldsr/quantum_algorithms\")\n",
      "Repository(full_name=\"maxmekiska/Entanglement_Gates\")\n",
      "Repository(full_name=\"odeonus/qiskit\")\n",
      "Repository(full_name=\"medusamedusa/quantum-world\")\n",
      "Repository(full_name=\"alan23273850/AutoQ\")\n",
      "Repository(full_name=\"joyofly/ExactQubitAllocation\")\n",
      "Repository(full_name=\"ravichahashi/ImplementingQuantumAlgorithm\")\n",
      "Repository(full_name=\"mnm-admin/improvedPartitionOptimization\")\n",
      "Repository(full_name=\"smml1996/q_simulator\")\n",
      "Repository(full_name=\"S4Plus/Q-Tetris\")\n",
      "Repository(full_name=\"deviludier/VQA_for_Gate_Compre\")\n",
      "Repository(full_name=\"luigizuccarelli/quantum-docker-dev\")\n",
      "Repository(full_name=\"romOlivo/TestQCEC\")\n",
      "Repository(full_name=\"BlakeGerard/qrane-artifact\")\n",
      "Repository(full_name=\"wiktor145/QTrator\")\n",
      "Repository(full_name=\"quantumbluee/Quantum-Teleportation-using-OpenQASM\")\n",
      "Repository(full_name=\"vtkovacs/am-doppler-raspberrypi\")\n",
      "Repository(full_name=\"trasousa-bi4all/QLogic_PyZX\")\n",
      "Repository(full_name=\"DavidLKB/QuantumHackathonMarch2021\")\n",
      "Repository(full_name=\"laguila11/qiskit\")\n",
      "Repository(full_name=\"rpruizc/quantum_pragprog\")\n",
      "Repository(full_name=\"livinghub/inst\")\n",
      "Repository(full_name=\"mattsteinberg13/heuristic-qubit-mapping-algorithm\")\n",
      "Repository(full_name=\"mcrl/quantum-benchmark\")\n",
      "Repository(full_name=\"michaelgrigoryan25/qasm\")\n",
      "Repository(full_name=\"sajeffries/IQC-Summary\")\n",
      "Repository(full_name=\"Ethan-lsh/simulator\")\n",
      "Repository(full_name=\"ShepherdLee519/qcpm\")\n",
      "Repository(full_name=\"dudupo/classiq_competition\")\n",
      "Repository(full_name=\"angelirene/agent\")\n",
      "Repository(full_name=\"Bhargavishnu/qsof-cohort\")\n",
      "Repository(full_name=\"darkbtf/tket-quantum-circuit-routing\")\n",
      "Repository(full_name=\"iyers16/treasure-door-enigma\")\n",
      "Repository(full_name=\"argvi/classiq_challenge\")\n",
      "Repository(full_name=\"yh08037/QuantumCompiler_2022\")\n",
      "Repository(full_name=\"mnm-team/pyzx-heuristics\")\n",
      "Repository(full_name=\"svenpruefer/quantumcomputing\")\n",
      "Repository(full_name=\"CQCL/architecture-aware-phasepoly-synth\")\n",
      "Repository(full_name=\"SidoShiro/QuantumComputing\")\n",
      "Repository(full_name=\"rickyHong/pyzx-repl\")\n",
      "Repository(full_name=\"Holly-Jiang/quantum_mapping_a_-\")\n",
      "Repository(full_name=\"gusaiani/quantum-computing-fundamentals\")\n",
      "Repository(full_name=\"Holly-Jiang/TSA\")\n",
      "Repository(full_name=\"BensonZhou1991/MCTS-New\")\n",
      "Repository(full_name=\"whyaza/quantum-jobs\")\n",
      "Repository(full_name=\"mtweiden/hybrid_partitioning\")\n",
      "Repository(full_name=\"Elsa-Arslan/Qiskit\")\n",
      "Repository(full_name=\"MexIvanov/Naginata-QCS\")\n",
      "Repository(full_name=\"dronabanerjee/simon-s_algorithm\")\n",
      "Repository(full_name=\"Mezantrop74/openqasm\")\n",
      "Repository(full_name=\"AlcalaRs/Qiskit\")\n",
      "Repository(full_name=\"M-qiangZhu/Physical-constraint-aware-CNOT-quantum-circuit-synthesis-and-optimization\")\n",
      "Repository(full_name=\"CQCL/ethz-hackathon22\")\n",
      "Repository(full_name=\"adrianleh/quantum-compiler-benchmark\")\n",
      "Repository(full_name=\"vm6502q/cirq-qrack\")\n",
      "Repository(full_name=\"huafei1137/CrosstalkAdapative\")\n",
      "Repository(full_name=\"JonasReichhardt/qCharta\")\n",
      "Repository(full_name=\"sunghyepark/MCQA\")\n",
      "Repository(full_name=\"BensonZhou1991/Supervised-Learning-Enhanced-Quantum-Circuit-Transformation\")\n",
      "Repository(full_name=\"kgurazad/openqasm-grover\")\n",
      "Repository(full_name=\"Aarun2/Quantum_Repo\")\n",
      "Repository(full_name=\"Zhaoyilunnn/q-gpu-exp\")\n",
      "Repository(full_name=\"Sengthai/native-quantum-gate-decompostion\")\n",
      "Repository(full_name=\"hcoffey1/Quarry\")\n",
      "Repository(full_name=\"yh08037/internship-qc\")\n",
      "Repository(full_name=\"StefanHaslhofer/QuantumCircuitMapper\")\n",
      "Repository(full_name=\"gyu-don/openqasm3-rs\")\n",
      "Repository(full_name=\"hmy98213/Fault-Simulation\")\n",
      "Repository(full_name=\"UST-QuAntiL/nisq-analyzer-content\")\n",
      "Repository(full_name=\"sanjinsanbai/EConTDD\")\n",
      "Repository(full_name=\"darkbtf/quantum-circuit-synthesis-experiments\")\n",
      "Repository(full_name=\"francescosisini/QASM\")\n",
      "Repository(full_name=\"suhaskvittal/foresight-cpp\")\n",
      "Repository(full_name=\"isolatedinformation/CliffordQASM\")\n",
      "Repository(full_name=\"akshajgaur/VOQC_PythonBindings\")\n",
      "Repository(full_name=\"joeldraj4/precompile-tests\")\n",
      "Repository(full_name=\"huafei1137/benchmark\")\n",
      "Repository(full_name=\"hflash/profiling\")\n",
      "Repository(full_name=\"SmoothDragon/QIP2022_QNR\")\n",
      "Repository(full_name=\"hflash/StrongestMapper\")\n",
      "Repository(full_name=\"Holly-Jiang/qmap_sdp\")\n",
      "Repository(full_name=\"ThalusA/QiskitCircuits\")\n",
      "Repository(full_name=\"daehiff/gate-optimisation\")\n",
      "Repository(full_name=\"joyofly/ILS-QuantumCircuitMapper\")\n",
      "Repository(full_name=\"Holly-Jiang/QCTSA1\")\n",
      "Repository(full_name=\"Zshan0/classiq-22\")\n",
      "Repository(full_name=\"JaderDias/qasm-world-generator\")\n",
      "Repository(full_name=\"aash-gates/Quantum-Computing-QASM\")\n"
     ]
    }
   ],
   "source": [
    "repo_by_lan = g.search_repositories(\"language:OpenQASM\")\n",
    "\n",
    "repo_by_lan.get_page(0)\n",
    "print('total: ' + str(repo_by_lan.totalCount))\n",
    "\n",
    "for repo in repo_by_lan:\n",
    "    print(repo)"
   ]
  },
  {
   "cell_type": "code",
   "execution_count": null,
   "id": "ff3a9f30",
   "metadata": {},
   "outputs": [],
   "source": []
  }
 ],
 "metadata": {
  "kernelspec": {
   "display_name": "Python 3 (ipykernel)",
   "language": "python",
   "name": "python3"
  },
  "language_info": {
   "codemirror_mode": {
    "name": "ipython",
    "version": 3
   },
   "file_extension": ".py",
   "mimetype": "text/x-python",
   "name": "python",
   "nbconvert_exporter": "python",
   "pygments_lexer": "ipython3",
   "version": "3.10.6"
  }
 },
 "nbformat": 4,
 "nbformat_minor": 5
}
